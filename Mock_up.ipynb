{
  "nbformat": 4,
  "nbformat_minor": 0,
  "metadata": {
    "colab": {
      "name": "Mock_up.ipynb",
      "provenance": [],
      "collapsed_sections": [],
      "authorship_tag": "ABX9TyNLzRcmqj4JlBLl0cIGG0h0",
      "include_colab_link": true
    },
    "kernelspec": {
      "name": "python3",
      "display_name": "Python 3"
    }
  },
  "cells": [
    {
      "cell_type": "markdown",
      "metadata": {
        "id": "view-in-github",
        "colab_type": "text"
      },
      "source": [
        "<a href=\"https://colab.research.google.com/github/DevAdedeji/Data-Analysis-With-Python/blob/main/Mock_up.ipynb\" target=\"_parent\"><img src=\"https://colab.research.google.com/assets/colab-badge.svg\" alt=\"Open In Colab\"/></a>"
      ]
    },
    {
      "cell_type": "code",
      "metadata": {
        "id": "hgGJOyIYAd3Y"
      },
      "source": [
        "from datetime import datetime\n",
        "from datetime import date\n",
        "import pandas as pd"
      ],
      "execution_count": null,
      "outputs": []
    },
    {
      "cell_type": "markdown",
      "metadata": {
        "id": "zWjsowvDBVRN"
      },
      "source": [
        "##To get time"
      ]
    },
    {
      "cell_type": "code",
      "metadata": {
        "id": "igrSe8CeA47S"
      },
      "source": [
        "date = datetime.now()\n",
        "Time = date.strftime(\"%H:%M:%S\")"
      ],
      "execution_count": null,
      "outputs": []
    },
    {
      "cell_type": "markdown",
      "metadata": {
        "id": "92zIKi0NBYvQ"
      },
      "source": [
        "#To get the day, month and year"
      ]
    },
    {
      "cell_type": "code",
      "metadata": {
        "id": "RXX5yzGiBdsC"
      },
      "source": [
        "date_today = date.today()\n",
        "Year = date_today.year\n",
        "Month = date_today.month\n",
        "Day = date_today.day"
      ],
      "execution_count": null,
      "outputs": []
    },
    {
      "cell_type": "markdown",
      "metadata": {
        "id": "vKUsiZ14CxfJ"
      },
      "source": [
        "##Asking for informations"
      ]
    },
    {
      "cell_type": "code",
      "metadata": {
        "colab": {
          "base_uri": "https://localhost:8080/"
        },
        "id": "tC-eCnd1CW99",
        "outputId": "10d47d86-4733-47cc-b461-481bb2178286"
      },
      "source": [
        "goods = input(\"Name of goods bought: \")\n",
        "quantity = float(input(\"Quantity Ordered: \"))\n",
        "price = float(input(\"Price Each: \"))\n",
        "sales = quantity * price"
      ],
      "execution_count": null,
      "outputs": [
        {
          "output_type": "stream",
          "text": [
            "Name of goods bought: Pencil\n",
            "Quantity Ordered: 5\n",
            "Price Each: 20\n"
          ],
          "name": "stdout"
        }
      ]
    },
    {
      "cell_type": "markdown",
      "metadata": {
        "id": "2bL9_GVeDYzh"
      },
      "source": [
        "##To save in a dataframe"
      ]
    },
    {
      "cell_type": "code",
      "metadata": {
        "id": "4nZpNEAaDcD6"
      },
      "source": [
        "df = pd.DataFrame(\n",
        "   {\n",
        "    \"Time\" : [Time],\n",
        "    \"Day\": [Day],\n",
        "    \"Month\": [Month],\n",
        "    \"Year\":[Year],\n",
        "    \"Name_Goods\":[goods],\n",
        "    \"Quantity_ordered\": [quantity],\n",
        "    \"Price Each\": [price],\n",
        "    \"Sale\": [sales]\n",
        "   }\n",
        ")"
      ],
      "execution_count": null,
      "outputs": []
    },
    {
      "cell_type": "code",
      "metadata": {
        "colab": {
          "base_uri": "https://localhost:8080/",
          "height": 117
        },
        "id": "VfrNLQXKEMqW",
        "outputId": "9438e09b-9364-4652-cc01-d58330ac0da3"
      },
      "source": [
        "df"
      ],
      "execution_count": null,
      "outputs": [
        {
          "output_type": "execute_result",
          "data": {
            "text/html": [
              "<div>\n",
              "<style scoped>\n",
              "    .dataframe tbody tr th:only-of-type {\n",
              "        vertical-align: middle;\n",
              "    }\n",
              "\n",
              "    .dataframe tbody tr th {\n",
              "        vertical-align: top;\n",
              "    }\n",
              "\n",
              "    .dataframe thead th {\n",
              "        text-align: right;\n",
              "    }\n",
              "</style>\n",
              "<table border=\"1\" class=\"dataframe\">\n",
              "  <thead>\n",
              "    <tr style=\"text-align: right;\">\n",
              "      <th></th>\n",
              "      <th>Time</th>\n",
              "      <th>Day</th>\n",
              "      <th>Month</th>\n",
              "      <th>Year</th>\n",
              "      <th>Name_Goods</th>\n",
              "      <th>Quantity_ordered</th>\n",
              "      <th>Price Each</th>\n",
              "      <th>Sale</th>\n",
              "    </tr>\n",
              "  </thead>\n",
              "  <tbody>\n",
              "    <tr>\n",
              "      <th>0</th>\n",
              "      <td>23:42:59</td>\n",
              "      <td>7</td>\n",
              "      <td>3</td>\n",
              "      <td>2021</td>\n",
              "      <td>Pencil</td>\n",
              "      <td>5.0</td>\n",
              "      <td>20.0</td>\n",
              "      <td>100.0</td>\n",
              "    </tr>\n",
              "  </tbody>\n",
              "</table>\n",
              "</div>"
            ],
            "text/plain": [
              "       Time  Day  Month  Year Name_Goods  Quantity_ordered  Price Each   Sale\n",
              "0  23:42:59    7      3  2021     Pencil               5.0        20.0  100.0"
            ]
          },
          "metadata": {
            "tags": []
          },
          "execution_count": 14
        }
      ]
    },
    {
      "cell_type": "code",
      "metadata": {
        "colab": {
          "base_uri": "https://localhost:8080/",
          "height": 117
        },
        "id": "Bl_n4LIfE4yy",
        "outputId": "7bd390a0-d2c1-42bb-a621-48671c0f7d6f"
      },
      "source": [
        "old_df = pd.DataFrame({\n",
        "    \"Time\" : [Time],    \"Day\": [Day],\n",
        "    \"Month\": [Month],\n",
        "    \"Year\":[Year],\n",
        "    \"Name_Goods\":[\"Eraser\"],\n",
        "    \"Quantity_ordered\": [1],\n",
        "    \"Price Each\": [50],\n",
        "    \"Sale\": [sales]})\n",
        "old_df"
      ],
      "execution_count": null,
      "outputs": [
        {
          "output_type": "execute_result",
          "data": {
            "text/html": [
              "<div>\n",
              "<style scoped>\n",
              "    .dataframe tbody tr th:only-of-type {\n",
              "        vertical-align: middle;\n",
              "    }\n",
              "\n",
              "    .dataframe tbody tr th {\n",
              "        vertical-align: top;\n",
              "    }\n",
              "\n",
              "    .dataframe thead th {\n",
              "        text-align: right;\n",
              "    }\n",
              "</style>\n",
              "<table border=\"1\" class=\"dataframe\">\n",
              "  <thead>\n",
              "    <tr style=\"text-align: right;\">\n",
              "      <th></th>\n",
              "      <th>Time</th>\n",
              "      <th>Day</th>\n",
              "      <th>Month</th>\n",
              "      <th>Year</th>\n",
              "      <th>Name_Goods</th>\n",
              "      <th>Quantity_ordered</th>\n",
              "      <th>Price Each</th>\n",
              "      <th>Sale</th>\n",
              "    </tr>\n",
              "  </thead>\n",
              "  <tbody>\n",
              "    <tr>\n",
              "      <th>0</th>\n",
              "      <td>23:42:59</td>\n",
              "      <td>7</td>\n",
              "      <td>3</td>\n",
              "      <td>2021</td>\n",
              "      <td>Eraser</td>\n",
              "      <td>1</td>\n",
              "      <td>50</td>\n",
              "      <td>100.0</td>\n",
              "    </tr>\n",
              "  </tbody>\n",
              "</table>\n",
              "</div>"
            ],
            "text/plain": [
              "       Time  Day  Month  Year Name_Goods  Quantity_ordered  Price Each   Sale\n",
              "0  23:42:59    7      3  2021     Eraser                 1          50  100.0"
            ]
          },
          "metadata": {
            "tags": []
          },
          "execution_count": 15
        }
      ]
    },
    {
      "cell_type": "code",
      "metadata": {
        "colab": {
          "base_uri": "https://localhost:8080/",
          "height": 148
        },
        "id": "tF_x_umFFWbZ",
        "outputId": "974d0c02-507e-485b-da47-a67d83fc4bee"
      },
      "source": [
        "New_df = old_df.append(df, ignore_index = True)\n",
        "New_df"
      ],
      "execution_count": null,
      "outputs": [
        {
          "output_type": "execute_result",
          "data": {
            "text/html": [
              "<div>\n",
              "<style scoped>\n",
              "    .dataframe tbody tr th:only-of-type {\n",
              "        vertical-align: middle;\n",
              "    }\n",
              "\n",
              "    .dataframe tbody tr th {\n",
              "        vertical-align: top;\n",
              "    }\n",
              "\n",
              "    .dataframe thead th {\n",
              "        text-align: right;\n",
              "    }\n",
              "</style>\n",
              "<table border=\"1\" class=\"dataframe\">\n",
              "  <thead>\n",
              "    <tr style=\"text-align: right;\">\n",
              "      <th></th>\n",
              "      <th>Time</th>\n",
              "      <th>Day</th>\n",
              "      <th>Month</th>\n",
              "      <th>Year</th>\n",
              "      <th>Name_Goods</th>\n",
              "      <th>Quantity_ordered</th>\n",
              "      <th>Price Each</th>\n",
              "      <th>Sale</th>\n",
              "    </tr>\n",
              "  </thead>\n",
              "  <tbody>\n",
              "    <tr>\n",
              "      <th>0</th>\n",
              "      <td>23:42:59</td>\n",
              "      <td>7</td>\n",
              "      <td>3</td>\n",
              "      <td>2021</td>\n",
              "      <td>Eraser</td>\n",
              "      <td>1.0</td>\n",
              "      <td>50.0</td>\n",
              "      <td>100.0</td>\n",
              "    </tr>\n",
              "    <tr>\n",
              "      <th>0</th>\n",
              "      <td>23:42:59</td>\n",
              "      <td>7</td>\n",
              "      <td>3</td>\n",
              "      <td>2021</td>\n",
              "      <td>Pencil</td>\n",
              "      <td>5.0</td>\n",
              "      <td>20.0</td>\n",
              "      <td>100.0</td>\n",
              "    </tr>\n",
              "  </tbody>\n",
              "</table>\n",
              "</div>"
            ],
            "text/plain": [
              "       Time  Day  Month  Year Name_Goods  Quantity_ordered  Price Each   Sale\n",
              "0  23:42:59    7      3  2021     Eraser               1.0        50.0  100.0\n",
              "0  23:42:59    7      3  2021     Pencil               5.0        20.0  100.0"
            ]
          },
          "metadata": {
            "tags": []
          },
          "execution_count": 17
        }
      ]
    },
    {
      "cell_type": "code",
      "metadata": {
        "id": "gAGJDhgtFur5"
      },
      "source": [
        "New_df.to_csv(\"new_mock_up.csv\")"
      ],
      "execution_count": 20,
      "outputs": []
    }
  ]
}